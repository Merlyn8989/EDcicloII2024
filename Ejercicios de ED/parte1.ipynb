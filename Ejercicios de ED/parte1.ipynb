{
 "cells": [
  {
   "cell_type": "code",
   "execution_count": 1,
   "id": "2b5b9fee-b2f1-4e06-854b-e60c4344cc44",
   "metadata": {},
   "outputs": [
    {
     "name": "stdin",
     "output_type": "stream",
     "text": [
      "Ingrese 5 numeros 1\n",
      "Ingrese 5 numeros 2\n",
      "Ingrese 5 numeros 3\n",
      "Ingrese 5 numeros 4\n",
      "Ingrese 5 numeros 5\n"
     ]
    },
    {
     "name": "stdout",
     "output_type": "stream",
     "text": [
      "[1, 2, 3, 4, 5]\n"
     ]
    }
   ],
   "source": [
    "vector = []\n",
    "\n",
    "for i in range(5):\n",
    "    numero = int(input(\"Ingrese 5 numeros\"))\n",
    "    vector.append(numero)\n",
    "\n",
    "print(vector)"
   ]
  },
  {
   "cell_type": "markdown",
   "id": "5898e4f1-91a8-4778-a122-79a4e962b2f6",
   "metadata": {},
   "source": [
    "Solicita 10 números y calcula el promedio de los valores ingresados."
   ]
  },
  {
   "cell_type": "code",
   "execution_count": 3,
   "id": "5d0b9251-baf4-48f4-9b4d-ca6bf2874aad",
   "metadata": {},
   "outputs": [
    {
     "name": "stdin",
     "output_type": "stream",
     "text": [
      "Ingrese 10 numeros 1\n",
      "Ingrese 10 numeros 2\n",
      "Ingrese 10 numeros 3\n",
      "Ingrese 10 numeros 4\n",
      "Ingrese 10 numeros 5\n",
      "Ingrese 10 numeros 6\n",
      "Ingrese 10 numeros 7\n",
      "Ingrese 10 numeros 8\n",
      "Ingrese 10 numeros 9\n",
      "Ingrese 10 numeros 10\n"
     ]
    },
    {
     "name": "stdout",
     "output_type": "stream",
     "text": [
      "El promedio de los datos ingresados es\n",
      "5.5\n"
     ]
    }
   ],
   "source": [
    "vector = []\n",
    "\n",
    "for i in range(10):\n",
    "    numero = int(input(\"Ingrese 10 numeros\"))\n",
    "    vector.append(numero)\n",
    "\n",
    "print(\"El promedio de los datos ingresados es\")\n",
    "print(sum(vector)/len(vector))"
   ]
  },
  {
   "cell_type": "markdown",
   "id": "b1315879-0113-4b2f-a6c8-6105b736eeff",
   "metadata": {},
   "source": [
    "Pide al usuario ingresar 7 números y muestra cuál es el mayor de ellos.\r"
   ]
  },
  {
   "cell_type": "code",
   "execution_count": 5,
   "id": "1bf6c0dc-9777-41fd-9592-999a0f6d038b",
   "metadata": {},
   "outputs": [
    {
     "name": "stdin",
     "output_type": "stream",
     "text": [
      "Ingrese 7 numeros 1\n",
      "Ingrese 7 numeros 2\n",
      "Ingrese 7 numeros 3\n",
      "Ingrese 7 numeros 4\n",
      "Ingrese 7 numeros 5\n",
      "Ingrese 7 numeros 6\n",
      "Ingrese 7 numeros 7\n"
     ]
    },
    {
     "name": "stdout",
     "output_type": "stream",
     "text": [
      "El dato mayor ingresado es 7\n"
     ]
    }
   ],
   "source": [
    "vector = []\n",
    "\n",
    "for i in range(7):\n",
    "    numero = int(input(\"Ingrese 7 numeros\"))\n",
    "    vector.append(numero)\n",
    "\n",
    "valorMax = max(vector)\n",
    "print(f\"El dato mayor ingresado es {valorMax}\") "
   ]
  },
  {
   "cell_type": "markdown",
   "id": "14d5573c-34a7-4d22-ad77-31f89a143577",
   "metadata": {},
   "source": [
    "Escribe un programa que cuente cuántos números positivos se ingresan en un\r\n",
    "vector de 8 elementos.\r"
   ]
  },
  {
   "cell_type": "code",
   "execution_count": 9,
   "id": "e54b1d4d-cbc0-46c1-8b98-c6ab9bcb3faa",
   "metadata": {},
   "outputs": [
    {
     "name": "stdin",
     "output_type": "stream",
     "text": [
      "Ingrese 8 numeros 1\n",
      "Ingrese 8 numeros -2\n",
      "Ingrese 8 numeros -3\n",
      "Ingrese 8 numeros -4\n",
      "Ingrese 8 numeros -5\n",
      "Ingrese 8 numeros -6\n",
      "Ingrese 8 numeros -7\n",
      "Ingrese 8 numeros -8\n"
     ]
    },
    {
     "name": "stdout",
     "output_type": "stream",
     "text": [
      "Hay 1 numeros positivos ingresados en el vector\n"
     ]
    }
   ],
   "source": [
    "vector = []\n",
    "\n",
    "for i in range(8):\n",
    "    numero = int(input(\"Ingrese 8 numeros\"))\n",
    "    vector.append(numero)\n",
    "                  \n",
    "sumaPositivos = 0\n",
    "for num in vector:\n",
    "    if num > 0:\n",
    "        sumaPositivos += 1\n",
    "print(f\"Hay {sumaPositivos} numeros positivos ingresados en el vector\")\n",
    "    "
   ]
  },
  {
   "cell_type": "markdown",
   "id": "57c2bafe-6342-4835-8f79-6da829d64e82",
   "metadata": {},
   "source": [
    "Crea un programa que invierta el orden de un vector de 6 elementos."
   ]
  },
  {
   "cell_type": "code",
   "execution_count": 11,
   "id": "d8087dd0-1cc9-42f9-863d-e7b457e6c649",
   "metadata": {},
   "outputs": [
    {
     "name": "stdin",
     "output_type": "stream",
     "text": [
      "Ingrese el número 1:  1\n",
      "Ingrese el número 2:  2\n",
      "Ingrese el número 3:  3\n",
      "Ingrese el número 4:  4\n",
      "Ingrese el número 5:  5\n",
      "Ingrese el número 6:  6\n"
     ]
    },
    {
     "name": "stdout",
     "output_type": "stream",
     "text": [
      "Vector original: [1, 2, 3, 4, 5, 6]\n",
      "Vector invertido: [6, 5, 4, 3, 2, 1]\n"
     ]
    }
   ],
   "source": [
    "vector = []\n",
    "\n",
    "for i in range(6):\n",
    "    numero = int(input(f\"Ingrese el número {i+1}: \"))\n",
    "    vector.append(numero)\n",
    "\n",
    "print(\"Vector original:\", vector)\n",
    "\n",
    "vector.reverse()\n",
    "\n",
    "print(\"Vector invertido:\", vector)"
   ]
  },
  {
   "cell_type": "code",
   "execution_count": null,
   "id": "bda8f7e5-f56e-49ff-b198-ee8d14c3d62e",
   "metadata": {},
   "outputs": [],
   "source": []
  }
 ],
 "metadata": {
  "kernelspec": {
   "display_name": "Python 3 (ipykernel)",
   "language": "python",
   "name": "python3"
  },
  "language_info": {
   "codemirror_mode": {
    "name": "ipython",
    "version": 3
   },
   "file_extension": ".py",
   "mimetype": "text/x-python",
   "name": "python",
   "nbconvert_exporter": "python",
   "pygments_lexer": "ipython3",
   "version": "3.12.4"
  }
 },
 "nbformat": 4,
 "nbformat_minor": 5
}
