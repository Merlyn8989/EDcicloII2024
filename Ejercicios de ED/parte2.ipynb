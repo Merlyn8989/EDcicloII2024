{
 "cells": [
  {
   "cell_type": "markdown",
   "metadata": {},
   "source": [
    "Solicita al usuario llenar una matriz de 3x3 y calcula la suma de todos sus\n",
    "elementos."
   ]
  },
  {
   "cell_type": "code",
   "execution_count": 33,
   "metadata": {},
   "outputs": [
    {
     "name": "stdout",
     "output_type": "stream",
     "text": [
      "La suma de la matriz es: 45\n",
      "[[1, 2, 3], [4, 5, 6], [7, 8, 9]]\n"
     ]
    }
   ],
   "source": [
    "\n",
    "Matriz = [[ 0 for a in range(3)] for i in range(3)]\n",
    "\n",
    "suma = 0\n",
    "\n",
    "for i in range(3):\n",
    "\n",
    "    for j in range(3):\n",
    "\n",
    "        A = int(input(\"Ingrese un numero para la matriz fila y columna\"))\n",
    "        Matriz[i][j] = A\n",
    "\n",
    "    suma += sum(Matriz[i])\n",
    "    \n",
    "print(f\"La suma de la matriz es: {suma}\")\n",
    "print(Matriz)"
   ]
  },
  {
   "cell_type": "markdown",
   "metadata": {},
   "source": [
    "Genera una matriz identidad de tamaño 4x4"
   ]
  },
  {
   "cell_type": "code",
   "execution_count": 10,
   "metadata": {},
   "outputs": [
    {
     "name": "stdout",
     "output_type": "stream",
     "text": [
      "[1, 0, 0, 0]\n",
      "[0, 1, 0, 0]\n",
      "[0, 0, 1, 0]\n",
      "[0, 0, 0, 1]\n"
     ]
    }
   ],
   "source": [
    "Matriz2 = [[0 for i in range(4)] for j in range(4)]\n",
    "\n",
    "for i in range(4):\n",
    "    Matriz2[i][i] = 1\n",
    "\n",
    "for fila in Matriz2:\n",
    "    print(fila)\n"
   ]
  },
  {
   "cell_type": "markdown",
   "metadata": {},
   "source": [
    "Pide al usuario llenar una matriz de 2x3 y muestra su transpuesta.\n"
   ]
  },
  {
   "cell_type": "code",
   "execution_count": 49,
   "metadata": {},
   "outputs": [
    {
     "name": "stdout",
     "output_type": "stream",
     "text": [
      "La matriz original 2x3\n",
      "[1, 2, 3]\n",
      "[4, 5, 6]\n",
      "La matriz transpuesta 3x2\n",
      "[1, 4]\n",
      "[2, 5]\n",
      "[3, 6]\n"
     ]
    }
   ],
   "source": [
    "matriz2x3 = [[0 for i in range(3)] for j in range(2)]\n",
    "\n",
    "for i in range(2):\n",
    "    \n",
    "    for j in range(3):\n",
    "        digito = int(input(\"Ingrese digitos a la matriz\"))\n",
    "        matriz2x3[i][j] = digito\n",
    "\n",
    "matriz3x2 = [[0 for i in range(2)] for j in range(3)]\n",
    "\n",
    "for i in range(3):\n",
    "    for j in range(2):\n",
    "        matriz3x2[i][j] = matriz2x3[j][i]\n",
    "\n",
    "print(\"La matriz original 2x3\")\n",
    "for fila in matriz2x3:\n",
    "    print(fila)\n",
    "\n",
    "print(\"La matriz transpuesta 3x2\")\n",
    "for fila in matriz3x2:\n",
    "    print(fila)\n"
   ]
  },
  {
   "cell_type": "markdown",
   "metadata": {},
   "source": [
    "Realiza la multiplicación de dos matrices de 2x2. Solicita los datos para ambas\n",
    "matrices y muestra el resultado."
   ]
  },
  {
   "cell_type": "code",
   "execution_count": 11,
   "metadata": {},
   "outputs": [
    {
     "name": "stdout",
     "output_type": "stream",
     "text": [
      "Multiplicación de matrices\n",
      "Matriz 1:\n",
      "[1, 2]\n",
      "[3, 4]\n",
      "Matriz 2:\n",
      "[5, 6]\n",
      "[7, 8]\n",
      "La matriz final es:\n",
      "[19, 22]\n",
      "[43, 50]\n"
     ]
    }
   ],
   "source": [
    "print(\"Multiplicación de matrices\")\n",
    "\n",
    "matriz1 = []\n",
    "for i in range(2):\n",
    "    fila = []\n",
    "    for j in range(2):\n",
    "        digitos = int(input(f\"Ingrese los dígitos de la primera matriz en la posición ({i+1},{j+1}): \"))\n",
    "        fila.append(digitos)\n",
    "    matriz1.append(fila)\n",
    "\n",
    "matriz2 = []\n",
    "for i in range(2):\n",
    "    fila = []\n",
    "    for j in range(2):\n",
    "        digitos = int(input(f\"Ingrese los dígitos de la segunda matriz en la posición ({i+1},{j+1}): \"))\n",
    "        fila.append(digitos)\n",
    "    matriz2.append(fila)\n",
    "\n",
    "matrizFinal = []\n",
    "for i in range(2):\n",
    "    fila = []\n",
    "    for j in range(2):\n",
    "        multi = (matriz1[i][0] * matriz2[0][j]) + (matriz1[i][1] * matriz2[1][j])\n",
    "        fila.append(multi)\n",
    "    matrizFinal.append(fila)\n",
    "\n",
    "print(\"Matriz 1:\")\n",
    "for fila in matriz1:\n",
    "    print(fila)\n",
    "\n",
    "print(\"Matriz 2:\")\n",
    "for fila in matriz2:\n",
    "    print(fila)\n",
    "\n",
    "print(\"La matriz final es:\")\n",
    "for fila in matrizFinal:\n",
    "    print(fila)\n"
   ]
  },
  {
   "cell_type": "markdown",
   "metadata": {},
   "source": [
    "Solicita una matriz cuadrada de tamaño 3x3 y muestra los elementos de su\n",
    "diagonal principal."
   ]
  },
  {
   "cell_type": "code",
   "execution_count": 6,
   "metadata": {},
   "outputs": [
    {
     "name": "stdout",
     "output_type": "stream",
     "text": [
      "\n",
      "Matriz ingresada:\n",
      "[1, 2, 3]\n",
      "[4, 5, 6]\n",
      "[7, 8, 9]\n",
      "\n",
      "Elementos de la diagonal principal:\n",
      "1\n",
      "5\n",
      "9\n"
     ]
    }
   ],
   "source": [
    "matriz3x3 = []\n",
    "for i in range(3):\n",
    "    fila = []\n",
    "    for j in range(3):\n",
    "        digitos = int(input(f\"Ingrese el valor para la posición ({i+1}, {j+1}): \"))\n",
    "        fila.append(digitos)\n",
    "    matriz3x3.append(fila)\n",
    "\n",
    "print(\"\\nMatriz ingresada:\")\n",
    "for fila in matriz3x3:\n",
    "    print(fila)\n",
    "\n",
    "print(\"\\nElementos de la diagonal principal:\")\n",
    "for i in range(3):\n",
    "    print(matriz3x3[i][i])\n",
    "\n",
    "\n"
   ]
  }
 ],
 "metadata": {
  "kernelspec": {
   "display_name": "base",
   "language": "python",
   "name": "python3"
  },
  "language_info": {
   "codemirror_mode": {
    "name": "ipython",
    "version": 3
   },
   "file_extension": ".py",
   "mimetype": "text/x-python",
   "name": "python",
   "nbconvert_exporter": "python",
   "pygments_lexer": "ipython3",
   "version": "3.12.4"
  }
 },
 "nbformat": 4,
 "nbformat_minor": 2
}
